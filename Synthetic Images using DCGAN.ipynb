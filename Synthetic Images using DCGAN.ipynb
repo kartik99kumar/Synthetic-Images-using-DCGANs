{
 "cells": [
  {
   "cell_type": "code",
   "execution_count": null,
   "metadata": {},
   "outputs": [],
   "source": [
    "%matplotlib inline\n",
    "import tensorflow as tf\n",
    "from tensorflow import keras\n",
    "import numpy as np\n",
    "import plot_utils\n",
    "import matplotlib.pyplot as plt\n",
    "from tqdm import tqdm\n",
    "from IPython import display\n",
    "print('Tensorflow version:', tf.__version__)"
   ]
  },
  {
   "cell_type": "code",
   "execution_count": null,
   "metadata": {},
   "outputs": [],
   "source": [
    "(x_train,y_train),(x_test,y_test)=tf.keras.datasets.fashion_mnist.load_data()\n",
    "x_train=x_train.astype(np.float32)/255.0\n",
    "x_test=x_test.astype(np.float32)/255.0"
   ]
  },
  {
   "cell_type": "code",
   "execution_count": null,
   "metadata": {},
   "outputs": [],
   "source": [
    "plt.figure(figsize=(10,10))\n",
    "for i in range(25):\n",
    "    plt.subplot(5,5,i+1)\n",
    "    plt.grid(False)\n",
    "    plt.imshow(x_train[i],cmap=plt.cm.binary)"
   ]
  },
  {
   "cell_type": "code",
   "execution_count": null,
   "metadata": {},
   "outputs": [],
   "source": [
    "batch_size=32\n",
    "dataset=tf.data.Dataset.from_tensor_slices(x_train).shuffle(1000)\n",
    "dataset=dataset.batch(batch_size,drop_remainder=True).prefetch(1)"
   ]
  },
  {
   "cell_type": "code",
   "execution_count": null,
   "metadata": {},
   "outputs": [],
   "source": [
    "num_features=100\n",
    "\n",
    "generator=keras.models.Sequential([\n",
    "    keras.layers.Dense(7*7*128,input_shape=[num_features]),\n",
    "    keras.layers.Reshape([7,7,128]),\n",
    "    keras.layers.BatchNormalization(),\n",
    "    keras.layers.Conv2DTranspose(64,(5,5),(2,2),padding='same',activation='selu'),\n",
    "    keras.layers.BatchNormalization(),\n",
    "    keras.layers.Conv2DTranspose(1,(5,5),(2,2),padding='same',activation='tanh'),\n",
    "])"
   ]
  },
  {
   "cell_type": "code",
   "execution_count": null,
   "metadata": {},
   "outputs": [],
   "source": [
    "discriminator=keras.models.Sequential([\n",
    "    keras.layers.Conv2D(64,(5,5),(2,2),padding='same',input_shape=[28,28,1]),\n",
    "    keras.layers.LeakyReLU(0.2),\n",
    "    keras.layers.Dropout(0.3),\n",
    "    keras.layers.Conv2D(64,(5,5),(2,2),padding='same'),\n",
    "    keras.layers.LeakyReLU(0.2),\n",
    "    keras.layers.Dropout(0.3),\n",
    "    keras.layers.Flatten(),\n",
    "    keras.layers.Dense(1,activation='sigmoid'),\n",
    "    \n",
    "])"
   ]
  },
  {
   "cell_type": "code",
   "execution_count": null,
   "metadata": {},
   "outputs": [],
   "source": [
    "discriminator.compile(loss='binary_crossentropy',optimizer='rmsprop')\n",
    "discriminator.trainable=False\n",
    "gan=keras.models.Sequential([generator,discriminator])\n",
    "gan.compile(loss='binary_crossentropy',optimizer='rmsprop')"
   ]
  },
  {
   "cell_type": "code",
   "execution_count": null,
   "metadata": {},
   "outputs": [],
   "source": [
    "seed=tf.random.normal(shape=[batch_size,100])"
   ]
  },
  {
   "cell_type": "code",
   "execution_count": null,
   "metadata": {},
   "outputs": [],
   "source": [
    "def train_dcgan(gan,dataset,batch_size,num_features,epochs=5):\n",
    "    generator,discriminator=gan.layers\n",
    "    for epoch in range(epochs):\n",
    "        for X_batch in dataset:\n",
    "            noise=tf.random.normal(shape=[batch_size,num_features])\n",
    "            generated_images=generator(noise)\n",
    "            X_fake_and_real=tf.concat([generated_images,X_batch],axis=0)\n",
    "            y1=tf.constant([[0.]]*batch_size+[[1.]]*batch_size)\n",
    "            discriminator.trainable=True\n",
    "            discriminator.train_on_batch(X_fake_and_real,y1)\n",
    "            y2=tf.constant([[1.]]*batch_size)\n",
    "            discriminator.trainable=False\n",
    "            gan.train_on_batch(noise,y2)"
   ]
  },
  {
   "cell_type": "code",
   "execution_count": null,
   "metadata": {},
   "outputs": [],
   "source": [
    "x_train_dcgan=x_train.reshape(-1,28,28,1)*2.-1."
   ]
  },
  {
   "cell_type": "code",
   "execution_count": null,
   "metadata": {},
   "outputs": [],
   "source": [
    "batch_size=32\n",
    "dataset=tf.data.Dataset.from_tensor_slices(x_train_dcgan).shuffle(1000)\n",
    "dataset=dataset.batch(batch_size,drop_remainder=True).prefetch(1)"
   ]
  },
  {
   "cell_type": "raw",
   "metadata": {},
   "source": [
    "Training Now!"
   ]
  },
  {
   "cell_type": "code",
   "execution_count": null,
   "metadata": {},
   "outputs": [],
   "source": [
    "train_dcgan(gan,dataset,batch_size,num_features,epochs=100)"
   ]
  },
  {
   "cell_type": "code",
   "execution_count": null,
   "metadata": {},
   "outputs": [],
   "source": [
    "noise=tf.random.normal(shape=[batch_size,num_features])\n",
    "generated_images=generator(noise)\n",
    "plot_utils.show(generated_images,8)"
   ]
  }
 ],
 "metadata": {
  "kernelspec": {
   "display_name": "Python 3",
   "language": "python",
   "name": "python3"
  },
  "language_info": {
   "codemirror_mode": {
    "name": "ipython",
    "version": 3
   },
   "file_extension": ".py",
   "mimetype": "text/x-python",
   "name": "python",
   "nbconvert_exporter": "python",
   "pygments_lexer": "ipython3",
   "version": "3.8.2"
  }
 },
 "nbformat": 4,
 "nbformat_minor": 4
}
